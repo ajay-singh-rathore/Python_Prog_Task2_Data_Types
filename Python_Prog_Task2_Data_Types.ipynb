{
  "nbformat": 4,
  "nbformat_minor": 0,
  "metadata": {
    "colab": {
      "provenance": [],
      "authorship_tag": "ABX9TyOY2Z0J01BRCcn4xMU1AyLk",
      "include_colab_link": true
    },
    "kernelspec": {
      "name": "python3",
      "display_name": "Python 3"
    },
    "language_info": {
      "name": "python"
    }
  },
  "cells": [
    {
      "cell_type": "markdown",
      "metadata": {
        "id": "view-in-github",
        "colab_type": "text"
      },
      "source": [
        "<a href=\"https://colab.research.google.com/github/ajay-singh-rathore/Python_Prog_Task2_Data_Types/blob/main/Python_Prog_Task2_Data_Types.ipynb\" target=\"_parent\"><img src=\"https://colab.research.google.com/assets/colab-badge.svg\" alt=\"Open In Colab\"/></a>"
      ]
    },
    {
      "cell_type": "markdown",
      "source": [
        "### List Comprehension\n",
        "Question Link : https://www.hackerrank.com/challenges/list-comprehensions/problem?isFullScreen=true"
      ],
      "metadata": {
        "id": "XP_dNNetPffM"
      }
    },
    {
      "cell_type": "code",
      "execution_count": null,
      "metadata": {
        "id": "TsRgftW3PYEd"
      },
      "outputs": [],
      "source": [
        "if __name__ == '__main__':\n",
        "    x = int(input())\n",
        "    y = int(input())\n",
        "    z = int(input())\n",
        "    n = int(input())\n",
        "    l=list()\n",
        "    for i in range(x+1):\n",
        "        for j in range(y+1):\n",
        "            for k in range(z+1):\n",
        "                if(i+j+k!=n):\n",
        "                    l.append([i,j,k])\n",
        "    print(l)"
      ]
    },
    {
      "cell_type": "markdown",
      "source": [
        "### Find the Runner-Up Score!\n",
        "Question Link: https://www.hackerrank.com/challenges/find-second-maximum-number-in-a-list/problem?isFullScreen=true"
      ],
      "metadata": {
        "id": "EUOebv6lZpkv"
      }
    },
    {
      "cell_type": "code",
      "source": [
        "if __name__ == '__main__':\n",
        "    n = int(input())\n",
        "    arr = map(int,input().split())\n",
        "    \n",
        "    print(sorted(list(set(arr)))[-2])"
      ],
      "metadata": {
        "id": "QB4EvlT4kXZD"
      },
      "execution_count": null,
      "outputs": []
    },
    {
      "cell_type": "markdown",
      "source": [
        "### Lists\n",
        "Question Link : https://www.hackerrank.com/challenges/python-lists/problem?isFullScreen=true"
      ],
      "metadata": {
        "id": "dJV1tsfembdM"
      }
    },
    {
      "cell_type": "code",
      "source": [
        "if __name__ == '__main__':\n",
        "    N = int(input())\n",
        "    L = []\n",
        "for i in range(0,N):\n",
        "    str = input()\n",
        "    a = str.split(' ')\n",
        "    if a[0]=='insert':\n",
        "        L.insert(int(a[1]),int(a[2]))\n",
        "    if a[0]=='append':\n",
        "        L.append(int(a[1]))\n",
        "    if a[0]=='remove':\n",
        "        L.remove(int(a[1]))\n",
        "    if a[0]=='pop':\n",
        "        L.pop()\n",
        "    if a[0]=='index':\n",
        "        L.index(int(a[1]))\n",
        "    if a[0]=='count':\n",
        "        L.count(int(a[1]))\n",
        "    if a[0]=='sort':\n",
        "        L.sort()\n",
        "    if a[0]=='reverse':\n",
        "        L.reverse()\n",
        "    if a[0]=='print':\n",
        "        print(L)"
      ],
      "metadata": {
        "id": "WX-w6gFtboRi"
      },
      "execution_count": null,
      "outputs": []
    },
    {
      "cell_type": "markdown",
      "source": [
        "### NestedList\n",
        "Question Link : https://www.hackerrank.com/challenges/nested-list/problem?isFullScreen=true"
      ],
      "metadata": {
        "id": "9YwvA4NHj3Pi"
      }
    },
    {
      "cell_type": "code",
      "source": [
        "if __name__ == '__main__':\n",
        "    # create an empty list to store the student names and scores\n",
        "    students = []\n",
        "\n",
        "    \n",
        "    for _ in range(int(input())):\n",
        "        name = input()\n",
        "        score = float(input())\n",
        "        students.append([name, score])\n",
        "\n",
        "    students.sort(key=lambda x: x[1])\n",
        "\n",
        "    second_lowest_score = None\n",
        "    for i in range(len(students)):\n",
        "        if i == 0:\n",
        "            second_lowest_score = students[i][1]\n",
        "        elif students[i][1] > second_lowest_score:\n",
        "            second_lowest_score = students[i][1]\n",
        "            break\n",
        "\n",
        "    \n",
        "    names = []\n",
        "    for student in students:\n",
        "        if student[1] == second_lowest_score:\n",
        "            names.append(student[0])\n",
        "\n",
        "    \n",
        "    names.sort()\n",
        "    for name in names:\n",
        "        print(name)\n"
      ],
      "metadata": {
        "id": "yRYNFPqkmy1-"
      },
      "execution_count": null,
      "outputs": []
    },
    {
      "cell_type": "markdown",
      "source": [
        "### Finding The percentage\n",
        "Question Link: https://www.hackerrank.com/challenges/finding-the-percentage?isFullScreen=true"
      ],
      "metadata": {
        "id": "kFwRjK2nHwIM"
      }
    },
    {
      "cell_type": "code",
      "source": [
        "if __name__ == '__main__':\n",
        "\n",
        "    student_marks = {}\n",
        "\n",
        "    for _ in range(int(input())):\n",
        "        line = input().split()\n",
        "        name = line[0]\n",
        "        scores = list(map(float, line[1:]))\n",
        "        student_marks[name] = scores\n",
        "\n",
        "    \n",
        "    query_name = input()\n",
        "\n",
        "    \n",
        "    scores = student_marks[query_name]\n",
        "    average = sum(scores) / len(scores)\n",
        "    percentage = \"{:.2f}\".format(average)\n",
        "\n",
        "    print(percentage)"
      ],
      "metadata": {
        "id": "LheqEWIdH6W4"
      },
      "execution_count": null,
      "outputs": []
    },
    {
      "cell_type": "markdown",
      "source": [
        "### Tuples\n",
        "Question Link: https://www.hackerrank.com/challenges/python-tuples/problem?isFullScreen=true"
      ],
      "metadata": {
        "id": "7_9VhhKrntai"
      }
    },
    {
      "cell_type": "code",
      "source": [
        "if __name__ == '__main__':\n",
        "    \n",
        "    n = int(input())\n",
        "\n",
        "    integer_list = tuple(map(int, input().split()))\n",
        "    print(hash(integer_list))"
      ],
      "metadata": {
        "id": "xdaRLs7Un0J9"
      },
      "execution_count": null,
      "outputs": []
    },
    {
      "cell_type": "markdown",
      "source": [
        "### Introduction to Sets\n",
        "Question Link: https://www.hackerrank.com/challenges/py-introduction-to-sets/problem?isFullScreen=true"
      ],
      "metadata": {
        "id": "s_x2-yW2r0Kr"
      }
    },
    {
      "cell_type": "code",
      "source": [
        "def average(array):\n",
        "    # your code goes here\n",
        "    x=set(array)\n",
        "    return float(sum(x)/len(x))\n",
        "\n",
        "if __name__ == '__main__':\n",
        "    n = int(input())\n",
        "    arr = list(map(int, input().split()))\n",
        "    result = average(arr)\n",
        "    print(result)"
      ],
      "metadata": {
        "id": "qGiO6wRur-Lu"
      },
      "execution_count": null,
      "outputs": []
    },
    {
      "cell_type": "markdown",
      "source": [
        "### No Idea \n",
        "Question Link : https://www.hackerrank.com/challenges/no-idea/problem?isFullScreen=true"
      ],
      "metadata": {
        "id": "KQ6beWhbsyU_"
      }
    },
    {
      "cell_type": "code",
      "source": [
        "# Enter your code here. Read input from STDIN. Print output to STDOUT\n",
        "numlst =input().split()\n",
        "l = input().split()\n",
        "A = set(input().split())\n",
        "B = set(input().split())\n",
        "print(len(list(filter(lambda x: x in A, l))) - len(list(filter(lambda x: x in B, l))))"
      ],
      "metadata": {
        "id": "0q64jmvqs3JJ"
      },
      "execution_count": null,
      "outputs": []
    },
    {
      "cell_type": "markdown",
      "source": [
        "### Symmetric Difference\n",
        "Question Link: https://www.hackerrank.com/challenges/symmetric-difference/problem?isFullScreen=true"
      ],
      "metadata": {
        "id": "Ann6mclE2LvK"
      }
    },
    {
      "cell_type": "code",
      "source": [
        "# Enter your code here. Read input from STDIN. Print output to STDOUT\n",
        "input()\n",
        "a = set(map(int, input().split()))\n",
        "input()\n",
        "b = set(map(int, input().split()))\n",
        "\n",
        "print(*sorted(a ^ b), sep='\\n')"
      ],
      "metadata": {
        "id": "wabg3ZT42Sql"
      },
      "execution_count": null,
      "outputs": []
    },
    {
      "cell_type": "markdown",
      "source": [
        "### Set.add()\n",
        "Question Link: https://www.hackerrank.com/challenges/py-set-add/problem?isFullScreen=true"
      ],
      "metadata": {
        "id": "MVuax6iyHEk-"
      }
    },
    {
      "cell_type": "code",
      "source": [
        "# Enter your code here. Read input from STDIN. Print output to STDOUT\n",
        "N=int(input())\n",
        "ctry=set()\n",
        "for i in range(N):\n",
        "    ctry.add(input())\n",
        "print(len(ctry))\n"
      ],
      "metadata": {
        "id": "uRC-L1aPHXCq"
      },
      "execution_count": null,
      "outputs": []
    },
    {
      "cell_type": "markdown",
      "source": [
        "### Set .discard(), .remove() & .pop()\n",
        "\n"
      ],
      "metadata": {
        "id": "878L-cJY2WQF"
      }
    },
    {
      "cell_type": "code",
      "source": [
        "# Enter your code here. Read input from STDIN. Print output to STDOUT\n",
        "n, s = int(input()), set(map(int, input().split()[::-1]))\n",
        "for _ in range(int(input())):\n",
        "    method, *args = input().split()\n",
        "    getattr(s, method)(*map(int, *args)) if args else getattr(s, method)()\n",
        "print(sum(s))"
      ],
      "metadata": {
        "id": "ys23EJ-r2hYs"
      },
      "execution_count": null,
      "outputs": []
    },
    {
      "cell_type": "markdown",
      "source": [
        "### Set .union() Operation\n",
        "Question Link : https://www.hackerrank.com/challenges/py-set-union/problem?isFullScreen=true"
      ],
      "metadata": {
        "id": "ti7kLTWI3MZD"
      }
    },
    {
      "cell_type": "code",
      "source": [
        "# Enter your code here. Read input from STDIN. Print output to STDOUTinput()\n",
        "N1 = int(input())\n",
        "st1 = set(input().split());\n",
        "\n",
        "N2 = int(input())\n",
        "st2 = set(input().split());\n",
        "\n",
        "st3 = st1.union(st2)\n",
        "\n",
        "print(len(st3))"
      ],
      "metadata": {
        "id": "II3_zSA_3flh"
      },
      "execution_count": null,
      "outputs": []
    },
    {
      "cell_type": "markdown",
      "source": [
        "### Set.intersection() Operation\n",
        "Question Link: https://www.hackerrank.com/challenges/py-set-intersection-operation/problem?isFullScreen=true\n"
      ],
      "metadata": {
        "id": "eXGgyYM94HjR"
      }
    },
    {
      "cell_type": "code",
      "source": [
        "# Enter your code here. Read input from STDIN. Print output to STDOUT\n",
        "N1 = int(input())\n",
        "st1 = set(input().split())\n",
        "\n",
        "N2 = int(input())\n",
        "st2 = set(input().split())\n",
        "\n",
        "st3 = st2.intersection(st1)\n",
        "\n",
        "print(len(st3))"
      ],
      "metadata": {
        "id": "cF_LcLAu4RwX"
      },
      "execution_count": null,
      "outputs": []
    },
    {
      "cell_type": "markdown",
      "source": [
        "### Set.difference() Operation\n",
        "Question Link: https://www.hackerrank.com/challenges/py-set-difference-operation/problem?isFullScreen=true"
      ],
      "metadata": {
        "id": "dnXgYUpC5FMX"
      }
    },
    {
      "cell_type": "code",
      "source": [
        "# Enter your code here. Read input from STDIN. Print output to STDOUT\n",
        "n1=input()\n",
        "l1 = input().split()\n",
        "s1 = set(l1)\n",
        "n2=input()\n",
        "l2 = input().split()\n",
        "s2 = set(l2)\n",
        "s1s2 = s1.difference(s2)\n",
        "print(len(s1s2))"
      ],
      "metadata": {
        "id": "O4Gy3rzI5MQ7"
      },
      "execution_count": null,
      "outputs": []
    },
    {
      "cell_type": "markdown",
      "source": [
        "### Set .symmetric_difference() Operation\n",
        "Question Link: https://www.hackerrank.com/challenges/py-set-symmetric-difference-operation/problem?isFullScreen=true"
      ],
      "metadata": {
        "id": "bEbzlebNDQlJ"
      }
    },
    {
      "cell_type": "code",
      "source": [
        "# Enter your code here. Read input from STDIN. Print output to STDOUT\n",
        "N1 = int(input())\n",
        "st1 = set(input().split())\n",
        "N2 = int(input())\n",
        "st2 = set(input().split())\n",
        "st3 = st1.symmetric_difference(st2)\n",
        "print(len(st3))"
      ],
      "metadata": {
        "id": "JUCM_l_cDaFQ"
      },
      "execution_count": null,
      "outputs": []
    },
    {
      "cell_type": "markdown",
      "source": [
        "### Set Mutations\n",
        "Question Link: https://www.hackerrank.com/challenges/py-set-mutations/problem?isFullScreen=true"
      ],
      "metadata": {
        "id": "MNCkH3XIDkNq"
      }
    },
    {
      "cell_type": "code",
      "source": [
        "# Enter your code here. Read input from STDIN. Print output to STDOUT\n",
        "n = input()\n",
        "s = set(map(int, input().split())) \n",
        "\n",
        "for _ in range(int(input())):\n",
        "    args = input().strip().split()\n",
        "    new= set(map(int, input().split())) \n",
        "    eval(\"s.\" + args[0] + \"(  new  )\")\n",
        "print(sum(s))"
      ],
      "metadata": {
        "id": "HZNoL5wtDsfA"
      },
      "execution_count": null,
      "outputs": []
    },
    {
      "cell_type": "markdown",
      "source": [
        "### The Captain's Room\n",
        "Question Link: https://www.hackerrank.com/challenges/py-the-captains-room/problem?isFullScreen=true"
      ],
      "metadata": {
        "id": "vZDmKiWgD_Ee"
      }
    },
    {
      "cell_type": "code",
      "source": [
        "# Enter your code here. Read input from STDIN. Print output to STDOUT\n",
        "counts = dict()\n",
        "n = input()\n",
        "number = input().split()\n",
        "for i in number:\n",
        "    if i not in counts:\n",
        "        counts[i] = 1\n",
        "    else:\n",
        "        counts[i] += 1\n",
        "for i in counts:\n",
        "    if counts[i] == 1:\n",
        "        print (i)"
      ],
      "metadata": {
        "id": "R3yvQMB4Eq-j"
      },
      "execution_count": null,
      "outputs": []
    },
    {
      "cell_type": "markdown",
      "source": [
        "### Check Subset\n",
        "Question Link:  https://www.hackerrank.com/challenges/py-check-subset/problem?isFullScreen=true"
      ],
      "metadata": {
        "id": "AEWnP9NLEuVG"
      }
    },
    {
      "cell_type": "code",
      "source": [
        "# Enter your code here. Read input from STDIN. Print output to STDOUT\n",
        "T = int(input())\n",
        "\n",
        "for _ in range(T):\n",
        "    a = input()\n",
        "    A = set(input().split())\n",
        "    b = int(input())\n",
        "    B = set(input().split())\n",
        "    print(A.issubset(B))"
      ],
      "metadata": {
        "id": "EuFKFSyHFPgr"
      },
      "execution_count": null,
      "outputs": []
    },
    {
      "cell_type": "markdown",
      "source": [
        "### Check Strict Superset\n",
        "Question Link: https://www.hackerrank.com/challenges/py-check-strict-superset/problem?isFullScreen=true"
      ],
      "metadata": {
        "id": "Mr6h_pqNFpyl"
      }
    },
    {
      "cell_type": "code",
      "source": [
        "# Enter your code here. Read input from STDIN. Print output to STDOUT\n",
        "A = set(input().split())\n",
        "COUNT = 0\n",
        "VALUE = 0\n",
        "for i in range(int(input())):\n",
        "    if A.issuperset(set(input().split())):\n",
        "        COUNT += 1\n",
        "    else:\n",
        "        VALUE += 1\n",
        "if VALUE != 0:\n",
        "    print('False')\n",
        "else:\n",
        "    print('True')"
      ],
      "metadata": {
        "id": "4UU30SQoF1_o"
      },
      "execution_count": null,
      "outputs": []
    }
  ]
}